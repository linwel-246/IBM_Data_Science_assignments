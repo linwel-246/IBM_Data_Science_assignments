{
 "cells": [
  {
   "cell_type": "markdown",
   "id": "5a8e1036-7aa8-4522-bcc4-8040b1b8c352",
   "metadata": {},
   "source": [
    "# Data Science Tools and Ecosystem"
   ]
  },
  {
   "cell_type": "markdown",
   "id": "b2167b24-8372-45c0-b114-303e2f3fea37",
   "metadata": {},
   "source": [
    "In this notebook, Data Science Tools and Ecosystem are summarized."
   ]
  },
  {
   "cell_type": "markdown",
   "id": "b12ddfae-7aa6-4a7a-8592-d65414b1e7eb",
   "metadata": {},
   "source": [
    "**Objectives:**\n",
    "- List popular languages for Data Science\n",
    "- List commonly used libraries in Data Science\n",
    "- Indicate development environment open source tools used in Data Science\n",
    "- Introduce arithmetic expression examples"
   ]
  },
  {
   "cell_type": "markdown",
   "id": "ccc03da6-7a8a-41c1-9fab-81b703a15b69",
   "metadata": {},
   "source": [
    "Some of the popular languages that Data Scientists use are:\n",
    "1. Python\n",
    "2. R\n",
    "3. Julia\n",
    "4. Java\n",
    "5. SQL\n",
    "6. Scala"
   ]
  },
  {
   "cell_type": "markdown",
   "id": "f9d0430d-52c3-44d4-b254-274f28c0fa6e",
   "metadata": {},
   "source": [
    "Some of the commonly used libraries used by Data Scientists include:\n",
    "1. matplotlib\n",
    "2. Pandas\n",
    "3. ggplot\n",
    "4. TensorFlow\n",
    "5. scikit-learn"
   ]
  },
  {
   "cell_type": "markdown",
   "id": "29b7f6f5-5a3e-4896-be6c-1fc7184a6f75",
   "metadata": {},
   "source": [
    "|Data Science Tools|\n",
    "|--------|\n",
    "|Jupyter|\n",
    "|RStudio|\n",
    "|Spyder|"
   ]
  },
  {
   "cell_type": "markdown",
   "id": "7b92e317-c6d7-45a1-98ec-8b46e0758f21",
   "metadata": {},
   "source": [
    "### Below are a few examples of evaluating arithmetic expressions in Python:"
   ]
  },
  {
   "cell_type": "code",
   "execution_count": 3,
   "id": "6202e531-5f45-42c4-84d1-180e258a1eca",
   "metadata": {},
   "outputs": [
    {
     "data": {
      "text/plain": [
       "17"
      ]
     },
     "execution_count": 3,
     "metadata": {},
     "output_type": "execute_result"
    }
   ],
   "source": [
    "#This a simple arithmetic expression to multiply then add integers\n",
    "(3*4)+5"
   ]
  },
  {
   "cell_type": "code",
   "execution_count": 4,
   "id": "37e2f758-6e71-49e0-a9f7-e6054030fd2c",
   "metadata": {},
   "outputs": [
    {
     "data": {
      "text/plain": [
       "3.3333333333333335"
      ]
     },
     "execution_count": 4,
     "metadata": {},
     "output_type": "execute_result"
    }
   ],
   "source": [
    "# This will convert 200 minutes to hours by diving by 60\n",
    "200/60"
   ]
  },
  {
   "cell_type": "markdown",
   "id": "18c47b03-cdc7-4130-95a6-8c7399c8204d",
   "metadata": {},
   "source": [
    "## Author\n",
    "Linda W"
   ]
  },
  {
   "cell_type": "code",
   "execution_count": null,
   "id": "6129827c-b291-425d-9f13-d146134dc221",
   "metadata": {},
   "outputs": [],
   "source": []
  }
 ],
 "metadata": {
  "kernelspec": {
   "display_name": "Python 3 (ipykernel)",
   "language": "python",
   "name": "python3"
  },
  "language_info": {
   "codemirror_mode": {
    "name": "ipython",
    "version": 3
   },
   "file_extension": ".py",
   "mimetype": "text/x-python",
   "name": "python",
   "nbconvert_exporter": "python",
   "pygments_lexer": "ipython3",
   "version": "3.11.9"
  }
 },
 "nbformat": 4,
 "nbformat_minor": 5
}
